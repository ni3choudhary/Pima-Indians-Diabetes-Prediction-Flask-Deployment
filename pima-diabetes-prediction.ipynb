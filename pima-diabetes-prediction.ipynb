{
 "cells": [
  {
   "cell_type": "markdown",
   "id": "worth-college",
   "metadata": {
    "_cell_guid": "b1076dfc-b9ad-4769-8c92-a6c4dae69d19",
    "_uuid": "8f2839f25d086af736a60e9eeb907d3b93b6e0e5",
    "papermill": {
     "duration": 0.048341,
     "end_time": "2021-06-01T06:56:38.432992",
     "exception": false,
     "start_time": "2021-06-01T06:56:38.384651",
     "status": "completed"
    },
    "tags": []
   },
   "source": [
    "## Importing Necessary Libraries\n"
   ]
  },
  {
   "cell_type": "code",
   "execution_count": 1,
   "id": "willing-madness",
   "metadata": {
    "execution": {
     "iopub.execute_input": "2021-06-01T06:56:38.531938Z",
     "iopub.status.busy": "2021-06-01T06:56:38.530720Z",
     "iopub.status.idle": "2021-06-01T06:56:40.040712Z",
     "shell.execute_reply": "2021-06-01T06:56:40.041333Z",
     "shell.execute_reply.started": "2021-06-01T06:54:37.530189Z"
    },
    "papermill": {
     "duration": 1.561481,
     "end_time": "2021-06-01T06:56:40.041727",
     "exception": false,
     "start_time": "2021-06-01T06:56:38.480246",
     "status": "completed"
    },
    "tags": []
   },
   "outputs": [],
   "source": [
    "import numpy as np\n",
    "import pandas as pd\n",
    "import matplotlib.pyplot as plt\n",
    "import seaborn as sns \n",
    "\n",
    "from sklearn.model_selection import train_test_split, cross_val_score\n",
    "from sklearn.preprocessing import StandardScaler \n",
    "from sklearn.linear_model import LogisticRegression\n",
    "from sklearn.neighbors import KNeighborsClassifier\n",
    "from sklearn.svm import SVC\n",
    "from sklearn.naive_bayes import GaussianNB\n",
    "from sklearn.tree import DecisionTreeClassifier\n",
    "from sklearn.ensemble import RandomForestClassifier\n",
    "from xgboost import XGBClassifier\n",
    "from sklearn.metrics import confusion_matrix, classification_report, accuracy_score \n",
    "\n",
    "import pickle\n",
    "\n",
    "import warnings\n",
    "warnings.filterwarnings('ignore')"
   ]
  },
  {
   "cell_type": "markdown",
   "id": "competent-explosion",
   "metadata": {
    "papermill": {
     "duration": 0.047708,
     "end_time": "2021-06-01T06:56:40.137355",
     "exception": false,
     "start_time": "2021-06-01T06:56:40.089647",
     "status": "completed"
    },
    "tags": []
   },
   "source": [
    "#### Load the Data"
   ]
  },
  {
   "cell_type": "code",
   "execution_count": 2,
   "id": "rapid-semester",
   "metadata": {
    "execution": {
     "iopub.execute_input": "2021-06-01T06:56:40.239333Z",
     "iopub.status.busy": "2021-06-01T06:56:40.238633Z",
     "iopub.status.idle": "2021-06-01T06:56:40.264566Z",
     "shell.execute_reply": "2021-06-01T06:56:40.263917Z",
     "shell.execute_reply.started": "2021-06-01T06:54:39.062306Z"
    },
    "papermill": {
     "duration": 0.079959,
     "end_time": "2021-06-01T06:56:40.264779",
     "exception": false,
     "start_time": "2021-06-01T06:56:40.184820",
     "status": "completed"
    },
    "tags": []
   },
   "outputs": [],
   "source": [
    "df = pd.read_csv(\"./diabetes.csv\")"
   ]
  },
  {
   "cell_type": "markdown",
   "id": "prostate-catering",
   "metadata": {
    "papermill": {
     "duration": 0.047146,
     "end_time": "2021-06-01T06:56:40.359510",
     "exception": false,
     "start_time": "2021-06-01T06:56:40.312364",
     "status": "completed"
    },
    "tags": []
   },
   "source": [
    "## EDA"
   ]
  },
  {
   "cell_type": "code",
   "execution_count": 3,
   "id": "persistent-insured",
   "metadata": {
    "execution": {
     "iopub.execute_input": "2021-06-01T06:56:40.466577Z",
     "iopub.status.busy": "2021-06-01T06:56:40.465662Z",
     "iopub.status.idle": "2021-06-01T06:56:40.490202Z",
     "shell.execute_reply": "2021-06-01T06:56:40.490774Z",
     "shell.execute_reply.started": "2021-06-01T06:54:39.085951Z"
    },
    "papermill": {
     "duration": 0.084468,
     "end_time": "2021-06-01T06:56:40.490981",
     "exception": false,
     "start_time": "2021-06-01T06:56:40.406513",
     "status": "completed"
    },
    "tags": []
   },
   "outputs": [
    {
     "data": {
      "text/html": [
       "<div>\n",
       "<style scoped>\n",
       "    .dataframe tbody tr th:only-of-type {\n",
       "        vertical-align: middle;\n",
       "    }\n",
       "\n",
       "    .dataframe tbody tr th {\n",
       "        vertical-align: top;\n",
       "    }\n",
       "\n",
       "    .dataframe thead th {\n",
       "        text-align: right;\n",
       "    }\n",
       "</style>\n",
       "<table border=\"1\" class=\"dataframe\">\n",
       "  <thead>\n",
       "    <tr style=\"text-align: right;\">\n",
       "      <th></th>\n",
       "      <th>Pregnancies</th>\n",
       "      <th>Glucose</th>\n",
       "      <th>BloodPressure</th>\n",
       "      <th>SkinThickness</th>\n",
       "      <th>Insulin</th>\n",
       "      <th>BMI</th>\n",
       "      <th>DiabetesPedigreeFunction</th>\n",
       "      <th>Age</th>\n",
       "      <th>Outcome</th>\n",
       "    </tr>\n",
       "  </thead>\n",
       "  <tbody>\n",
       "    <tr>\n",
       "      <th>0</th>\n",
       "      <td>6</td>\n",
       "      <td>148</td>\n",
       "      <td>72</td>\n",
       "      <td>35</td>\n",
       "      <td>0</td>\n",
       "      <td>33.6</td>\n",
       "      <td>0.627</td>\n",
       "      <td>50</td>\n",
       "      <td>1</td>\n",
       "    </tr>\n",
       "    <tr>\n",
       "      <th>1</th>\n",
       "      <td>1</td>\n",
       "      <td>85</td>\n",
       "      <td>66</td>\n",
       "      <td>29</td>\n",
       "      <td>0</td>\n",
       "      <td>26.6</td>\n",
       "      <td>0.351</td>\n",
       "      <td>31</td>\n",
       "      <td>0</td>\n",
       "    </tr>\n",
       "    <tr>\n",
       "      <th>2</th>\n",
       "      <td>8</td>\n",
       "      <td>183</td>\n",
       "      <td>64</td>\n",
       "      <td>0</td>\n",
       "      <td>0</td>\n",
       "      <td>23.3</td>\n",
       "      <td>0.672</td>\n",
       "      <td>32</td>\n",
       "      <td>1</td>\n",
       "    </tr>\n",
       "    <tr>\n",
       "      <th>3</th>\n",
       "      <td>1</td>\n",
       "      <td>89</td>\n",
       "      <td>66</td>\n",
       "      <td>23</td>\n",
       "      <td>94</td>\n",
       "      <td>28.1</td>\n",
       "      <td>0.167</td>\n",
       "      <td>21</td>\n",
       "      <td>0</td>\n",
       "    </tr>\n",
       "    <tr>\n",
       "      <th>4</th>\n",
       "      <td>0</td>\n",
       "      <td>137</td>\n",
       "      <td>40</td>\n",
       "      <td>35</td>\n",
       "      <td>168</td>\n",
       "      <td>43.1</td>\n",
       "      <td>2.288</td>\n",
       "      <td>33</td>\n",
       "      <td>1</td>\n",
       "    </tr>\n",
       "  </tbody>\n",
       "</table>\n",
       "</div>"
      ],
      "text/plain": [
       "   Pregnancies  Glucose  BloodPressure  SkinThickness  Insulin   BMI  \\\n",
       "0            6      148             72             35        0  33.6   \n",
       "1            1       85             66             29        0  26.6   \n",
       "2            8      183             64              0        0  23.3   \n",
       "3            1       89             66             23       94  28.1   \n",
       "4            0      137             40             35      168  43.1   \n",
       "\n",
       "   DiabetesPedigreeFunction  Age  Outcome  \n",
       "0                     0.627   50        1  \n",
       "1                     0.351   31        0  \n",
       "2                     0.672   32        1  \n",
       "3                     0.167   21        0  \n",
       "4                     2.288   33        1  "
      ]
     },
     "execution_count": 3,
     "metadata": {},
     "output_type": "execute_result"
    }
   ],
   "source": [
    "# check the first five rows of data\n",
    "df.head()"
   ]
  },
  {
   "cell_type": "code",
   "execution_count": 4,
   "id": "thick-statement",
   "metadata": {
    "execution": {
     "iopub.execute_input": "2021-06-01T06:56:40.609510Z",
     "iopub.status.busy": "2021-06-01T06:56:40.608524Z",
     "iopub.status.idle": "2021-06-01T06:56:40.617644Z",
     "shell.execute_reply": "2021-06-01T06:56:40.616839Z",
     "shell.execute_reply.started": "2021-06-01T06:54:39.122414Z"
    },
    "papermill": {
     "duration": 0.076179,
     "end_time": "2021-06-01T06:56:40.617867",
     "exception": false,
     "start_time": "2021-06-01T06:56:40.541688",
     "status": "completed"
    },
    "tags": []
   },
   "outputs": [
    {
     "data": {
      "text/plain": [
       "(768, 9)"
      ]
     },
     "execution_count": 4,
     "metadata": {},
     "output_type": "execute_result"
    }
   ],
   "source": [
    "df.shape"
   ]
  },
  {
   "cell_type": "markdown",
   "id": "buried-affiliation",
   "metadata": {
    "papermill": {
     "duration": 0.048023,
     "end_time": "2021-06-01T06:56:40.724235",
     "exception": false,
     "start_time": "2021-06-01T06:56:40.676212",
     "status": "completed"
    },
    "tags": []
   },
   "source": [
    "**We have 768 observations and 9 features.**"
   ]
  },
  {
   "cell_type": "code",
   "execution_count": 5,
   "id": "rotary-banks",
   "metadata": {
    "execution": {
     "iopub.execute_input": "2021-06-01T06:56:40.829130Z",
     "iopub.status.busy": "2021-06-01T06:56:40.828088Z",
     "iopub.status.idle": "2021-06-01T06:56:40.839485Z",
     "shell.execute_reply": "2021-06-01T06:56:40.840210Z",
     "shell.execute_reply.started": "2021-06-01T06:54:39.132796Z"
    },
    "papermill": {
     "duration": 0.065134,
     "end_time": "2021-06-01T06:56:40.840486",
     "exception": false,
     "start_time": "2021-06-01T06:56:40.775352",
     "status": "completed"
    },
    "tags": []
   },
   "outputs": [
    {
     "data": {
      "text/plain": [
       "0    500\n",
       "1    268\n",
       "Name: Outcome, dtype: int64"
      ]
     },
     "execution_count": 5,
     "metadata": {},
     "output_type": "execute_result"
    }
   ],
   "source": [
    "# checking the distribution of outcomes\n",
    "df[\"Outcome\"].value_counts()"
   ]
  },
  {
   "cell_type": "code",
   "execution_count": 6,
   "id": "twenty-usage",
   "metadata": {
    "execution": {
     "iopub.execute_input": "2021-06-01T06:56:40.956435Z",
     "iopub.status.busy": "2021-06-01T06:56:40.955306Z",
     "iopub.status.idle": "2021-06-01T06:56:40.962850Z",
     "shell.execute_reply": "2021-06-01T06:56:40.963632Z",
     "shell.execute_reply.started": "2021-06-01T06:54:39.150052Z"
    },
    "papermill": {
     "duration": 0.060549,
     "end_time": "2021-06-01T06:56:40.963918",
     "exception": false,
     "start_time": "2021-06-01T06:56:40.903369",
     "status": "completed"
    },
    "tags": []
   },
   "outputs": [
    {
     "data": {
      "text/plain": [
       "Pregnancies                 0\n",
       "Glucose                     0\n",
       "BloodPressure               0\n",
       "SkinThickness               0\n",
       "Insulin                     0\n",
       "BMI                         0\n",
       "DiabetesPedigreeFunction    0\n",
       "Age                         0\n",
       "Outcome                     0\n",
       "dtype: int64"
      ]
     },
     "execution_count": 6,
     "metadata": {},
     "output_type": "execute_result"
    }
   ],
   "source": [
    "# checking null values in data\n",
    "df.isnull().sum()"
   ]
  },
  {
   "cell_type": "markdown",
   "id": "primary-scheme",
   "metadata": {
    "papermill": {
     "duration": 0.04876,
     "end_time": "2021-06-01T06:56:41.067381",
     "exception": false,
     "start_time": "2021-06-01T06:56:41.018621",
     "status": "completed"
    },
    "tags": []
   },
   "source": [
    "**As we can see that there is no missing values.**"
   ]
  },
  {
   "cell_type": "code",
   "execution_count": 7,
   "id": "judicial-reset",
   "metadata": {
    "execution": {
     "iopub.execute_input": "2021-06-01T06:56:41.170241Z",
     "iopub.status.busy": "2021-06-01T06:56:41.169282Z",
     "iopub.status.idle": "2021-06-01T06:56:41.887587Z",
     "shell.execute_reply": "2021-06-01T06:56:41.888125Z",
     "shell.execute_reply.started": "2021-06-01T06:54:39.165987Z"
    },
    "papermill": {
     "duration": 0.771802,
     "end_time": "2021-06-01T06:56:41.888330",
     "exception": false,
     "start_time": "2021-06-01T06:56:41.116528",
     "status": "completed"
    },
    "tags": []
   },
   "outputs": [
    {
     "data": {
      "image/png": "[encoded data removed]",
      "text/plain": [
       "<Figure size 720x432 with 2 Axes>"
      ]
     },
     "metadata": {
      "needs_background": "light"
     },
     "output_type": "display_data"
    }
   ],
   "source": [
    "#checking correlation between features\n",
    "plt.figure(figsize=(10, 6))\n",
    "sns.heatmap(df.corr(), annot=True, linewidths=2,cmap='plasma')\n",
    "plt.show()"
   ]
  },
  {
   "cell_type": "markdown",
   "id": "polyphonic-slope",
   "metadata": {
    "papermill": {
     "duration": 0.049647,
     "end_time": "2021-06-01T06:56:41.988436",
     "exception": false,
     "start_time": "2021-06-01T06:56:41.938789",
     "status": "completed"
    },
    "tags": []
   },
   "source": [
    "* **Pregnancies,Glucose,BMI,Age have positive correlation with Outcome(target variable).**\n",
    "* **SkinThickness and Insulin having correlation with each other.**\n",
    "* **Age and Pregnancies are correlated.**"
   ]
  },
  {
   "cell_type": "code",
   "execution_count": 8,
   "id": "handled-stupid",
   "metadata": {
    "execution": {
     "iopub.execute_input": "2021-06-01T06:56:42.099200Z",
     "iopub.status.busy": "2021-06-01T06:56:42.098367Z",
     "iopub.status.idle": "2021-06-01T06:56:42.102498Z",
     "shell.execute_reply": "2021-06-01T06:56:42.101964Z",
     "shell.execute_reply.started": "2021-06-01T06:54:39.903414Z"
    },
    "papermill": {
     "duration": 0.062339,
     "end_time": "2021-06-01T06:56:42.102655",
     "exception": false,
     "start_time": "2021-06-01T06:56:42.040316",
     "status": "completed"
    },
    "tags": []
   },
   "outputs": [
    {
     "data": {
      "text/plain": [
       "Pregnancies                   int64\n",
       "Glucose                       int64\n",
       "BloodPressure                 int64\n",
       "SkinThickness                 int64\n",
       "Insulin                       int64\n",
       "BMI                         float64\n",
       "DiabetesPedigreeFunction    float64\n",
       "Age                           int64\n",
       "Outcome                       int64\n",
       "dtype: object"
      ]
     },
     "execution_count": 8,
     "metadata": {},
     "output_type": "execute_result"
    }
   ],
   "source": [
    "#checking datatypes of features\n",
    "df.dtypes"
   ]
  },
  {
   "cell_type": "code",
   "execution_count": 9,
   "id": "clear-battlefield",
   "metadata": {
    "execution": {
     "iopub.execute_input": "2021-06-01T06:56:42.208204Z",
     "iopub.status.busy": "2021-06-01T06:56:42.207477Z",
     "iopub.status.idle": "2021-06-01T06:56:42.422478Z",
     "shell.execute_reply": "2021-06-01T06:56:42.423014Z",
     "shell.execute_reply.started": "2021-06-01T06:54:39.914349Z"
    },
    "papermill": {
     "duration": 0.269449,
     "end_time": "2021-06-01T06:56:42.423235",
     "exception": false,
     "start_time": "2021-06-01T06:56:42.153786",
     "status": "completed"
    },
    "tags": []
   },
   "outputs": [
    {
     "data": {
      "text/html": [
       "<div>\n",
       "<style scoped>\n",
       "    .dataframe tbody tr th:only-of-type {\n",
       "        vertical-align: middle;\n",
       "    }\n",
       "\n",
       "    .dataframe tbody tr th {\n",
       "        vertical-align: top;\n",
       "    }\n",
       "\n",
       "    .dataframe thead th {\n",
       "        text-align: right;\n",
       "    }\n",
       "</style>\n",
       "<table border=\"1\" class=\"dataframe\">\n",
       "  <thead>\n",
       "    <tr style=\"text-align: right;\">\n",
       "      <th></th>\n",
       "      <th>Pregnancies</th>\n",
       "      <th>Glucose</th>\n",
       "      <th>BloodPressure</th>\n",
       "      <th>SkinThickness</th>\n",
       "      <th>Insulin</th>\n",
       "      <th>BMI</th>\n",
       "      <th>DiabetesPedigreeFunction</th>\n",
       "      <th>Age</th>\n",
       "      <th>Outcome</th>\n",
       "    </tr>\n",
       "  </thead>\n",
       "  <tbody>\n",
       "    <tr>\n",
       "      <th>count</th>\n",
       "      <td>768.000000</td>\n",
       "      <td>768.000000</td>\n",
       "      <td>768.000000</td>\n",
       "      <td>768.000000</td>\n",
       "      <td>768.000000</td>\n",
       "      <td>768.000000</td>\n",
       "      <td>768.000000</td>\n",
       "      <td>768.000000</td>\n",
       "      <td>768.000000</td>\n",
       "    </tr>\n",
       "    <tr>\n",
       "      <th>mean</th>\n",
       "      <td>3.845052</td>\n",
       "      <td>120.894531</td>\n",
       "      <td>69.105469</td>\n",
       "      <td>20.536458</td>\n",
       "      <td>79.799479</td>\n",
       "      <td>31.992578</td>\n",
       "      <td>0.471876</td>\n",
       "      <td>33.240885</td>\n",
       "      <td>0.348958</td>\n",
       "    </tr>\n",
       "    <tr>\n",
       "      <th>std</th>\n",
       "      <td>3.369578</td>\n",
       "      <td>31.972618</td>\n",
       "      <td>19.355807</td>\n",
       "      <td>15.952218</td>\n",
       "      <td>115.244002</td>\n",
       "      <td>7.884160</td>\n",
       "      <td>0.331329</td>\n",
       "      <td>11.760232</td>\n",
       "      <td>0.476951</td>\n",
       "    </tr>\n",
       "    <tr>\n",
       "      <th>min</th>\n",
       "      <td>0.000000</td>\n",
       "      <td>0.000000</td>\n",
       "      <td>0.000000</td>\n",
       "      <td>0.000000</td>\n",
       "      <td>0.000000</td>\n",
       "      <td>0.000000</td>\n",
       "      <td>0.078000</td>\n",
       "      <td>21.000000</td>\n",
       "      <td>0.000000</td>\n",
       "    </tr>\n",
       "    <tr>\n",
       "      <th>25%</th>\n",
       "      <td>1.000000</td>\n",
       "      <td>99.000000</td>\n",
       "      <td>62.000000</td>\n",
       "      <td>0.000000</td>\n",
       "      <td>0.000000</td>\n",
       "      <td>27.300000</td>\n",
       "      <td>0.243750</td>\n",
       "      <td>24.000000</td>\n",
       "      <td>0.000000</td>\n",
       "    </tr>\n",
       "    <tr>\n",
       "      <th>50%</th>\n",
       "      <td>3.000000</td>\n",
       "      <td>117.000000</td>\n",
       "      <td>72.000000</td>\n",
       "      <td>23.000000</td>\n",
       "      <td>30.500000</td>\n",
       "      <td>32.000000</td>\n",
       "      <td>0.372500</td>\n",
       "      <td>29.000000</td>\n",
       "      <td>0.000000</td>\n",
       "    </tr>\n",
       "    <tr>\n",
       "      <th>75%</th>\n",
       "      <td>6.000000</td>\n",
       "      <td>140.250000</td>\n",
       "      <td>80.000000</td>\n",
       "      <td>32.000000</td>\n",
       "      <td>127.250000</td>\n",
       "      <td>36.600000</td>\n",
       "      <td>0.626250</td>\n",
       "      <td>41.000000</td>\n",
       "      <td>1.000000</td>\n",
       "    </tr>\n",
       "    <tr>\n",
       "      <th>max</th>\n",
       "      <td>17.000000</td>\n",
       "      <td>199.000000</td>\n",
       "      <td>122.000000</td>\n",
       "      <td>99.000000</td>\n",
       "      <td>846.000000</td>\n",
       "      <td>67.100000</td>\n",
       "      <td>2.420000</td>\n",
       "      <td>81.000000</td>\n",
       "      <td>1.000000</td>\n",
       "    </tr>\n",
       "  </tbody>\n",
       "</table>\n",
       "</div>"
      ],
      "text/plain": [
       "       Pregnancies     Glucose  BloodPressure  SkinThickness     Insulin  \\\n",
       "count   768.000000  768.000000     768.000000     768.000000  768.000000   \n",
       "mean      3.845052  120.894531      69.105469      20.536458   79.799479   \n",
       "std       3.369578   31.972618      19.355807      15.952218  115.244002   \n",
       "min       0.000000    0.000000       0.000000       0.000000    0.000000   \n",
       "25%       1.000000   99.000000      62.000000       0.000000    0.000000   \n",
       "50%       3.000000  117.000000      72.000000      23.000000   30.500000   \n",
       "75%       6.000000  140.250000      80.000000      32.000000  127.250000   \n",
       "max      17.000000  199.000000     122.000000      99.000000  846.000000   \n",
       "\n",
       "              BMI  DiabetesPedigreeFunction         Age     Outcome  \n",
       "count  768.000000                768.000000  768.000000  768.000000  \n",
       "mean    31.992578                  0.471876   33.240885    0.348958  \n",
       "std      7.884160                  0.331329   11.760232    0.476951  \n",
       "min      0.000000                  0.078000   21.000000    0.000000  \n",
       "25%     27.300000                  0.243750   24.000000    0.000000  \n",
       "50%     32.000000                  0.372500   29.000000    0.000000  \n",
       "75%     36.600000                  0.626250   41.000000    1.000000  \n",
       "max     67.100000                  2.420000   81.000000    1.000000  "
      ]
     },
     "execution_count": 9,
     "metadata": {},
     "output_type": "execute_result"
    }
   ],
   "source": [
    "# Summary Statistics\n",
    "df.describe()"
   ]
  },
  {
   "cell_type": "markdown",
   "id": "southern-amount",
   "metadata": {
    "papermill": {
     "duration": 0.051097,
     "end_time": "2021-06-01T06:56:42.526766",
     "exception": false,
     "start_time": "2021-06-01T06:56:42.475669",
     "status": "completed"
    },
    "tags": []
   },
   "source": [
    "**Important Observation(s):**<br>\n",
    "* It seems like null values are present in the form of zeros because almost all the features have minimun value 0.<br>\n",
    "* It's not possible to have Glucose, BloodPressure, SkinThickness, Insulin, BMI to be zero. So, we have to handle this.<br>\n",
    "    **Let's check, how many zeroes are present in each feature**."
   ]
  },
  {
   "cell_type": "code",
   "execution_count": 10,
   "id": "sudden-history",
   "metadata": {
    "execution": {
     "iopub.execute_input": "2021-06-01T06:56:42.640611Z",
     "iopub.status.busy": "2021-06-01T06:56:42.639896Z",
     "iopub.status.idle": "2021-06-01T06:56:42.646276Z",
     "shell.execute_reply": "2021-06-01T06:56:42.646854Z",
     "shell.execute_reply.started": "2021-06-01T06:54:40.136411Z"
    },
    "papermill": {
     "duration": 0.068786,
     "end_time": "2021-06-01T06:56:42.647082",
     "exception": false,
     "start_time": "2021-06-01T06:56:42.578296",
     "status": "completed"
    },
    "tags": []
   },
   "outputs": [],
   "source": [
    "#replacing zero values with NaN \n",
    "features_with_zero = [\"Glucose\", \"BloodPressure\", \"SkinThickness\",\"Insulin\", \"BMI\"]\n",
    "for col in features_with_zero:\n",
    "    df[col].replace(0, np.nan, inplace=True)"
   ]
  },
  {
   "cell_type": "code",
   "execution_count": 11,
   "id": "future-horizon",
   "metadata": {
    "execution": {
     "iopub.execute_input": "2021-06-01T06:56:42.756350Z",
     "iopub.status.busy": "2021-06-01T06:56:42.755560Z",
     "iopub.status.idle": "2021-06-01T06:56:42.772491Z",
     "shell.execute_reply": "2021-06-01T06:56:42.773241Z",
     "shell.execute_reply.started": "2021-06-01T06:54:40.151708Z"
    },
    "papermill": {
     "duration": 0.072459,
     "end_time": "2021-06-01T06:56:42.773470",
     "exception": false,
     "start_time": "2021-06-01T06:56:42.701011",
     "status": "completed"
    },
    "tags": []
   },
   "outputs": [
    {
     "data": {
      "text/html": [
       "<div>\n",
       "<style scoped>\n",
       "    .dataframe tbody tr th:only-of-type {\n",
       "        vertical-align: middle;\n",
       "    }\n",
       "\n",
       "    .dataframe tbody tr th {\n",
       "        vertical-align: top;\n",
       "    }\n",
       "\n",
       "    .dataframe thead th {\n",
       "        text-align: right;\n",
       "    }\n",
       "</style>\n",
       "<table border=\"1\" class=\"dataframe\">\n",
       "  <thead>\n",
       "    <tr style=\"text-align: right;\">\n",
       "      <th></th>\n",
       "      <th>Pregnancies</th>\n",
       "      <th>Glucose</th>\n",
       "      <th>BloodPressure</th>\n",
       "      <th>SkinThickness</th>\n",
       "      <th>Insulin</th>\n",
       "      <th>BMI</th>\n",
       "      <th>DiabetesPedigreeFunction</th>\n",
       "      <th>Age</th>\n",
       "      <th>Outcome</th>\n",
       "    </tr>\n",
       "  </thead>\n",
       "  <tbody>\n",
       "    <tr>\n",
       "      <th>0</th>\n",
       "      <td>6</td>\n",
       "      <td>148.0</td>\n",
       "      <td>72.0</td>\n",
       "      <td>35.0</td>\n",
       "      <td>NaN</td>\n",
       "      <td>33.6</td>\n",
       "      <td>0.627</td>\n",
       "      <td>50</td>\n",
       "      <td>1</td>\n",
       "    </tr>\n",
       "    <tr>\n",
       "      <th>1</th>\n",
       "      <td>1</td>\n",
       "      <td>85.0</td>\n",
       "      <td>66.0</td>\n",
       "      <td>29.0</td>\n",
       "      <td>NaN</td>\n",
       "      <td>26.6</td>\n",
       "      <td>0.351</td>\n",
       "      <td>31</td>\n",
       "      <td>0</td>\n",
       "    </tr>\n",
       "    <tr>\n",
       "      <th>2</th>\n",
       "      <td>8</td>\n",
       "      <td>183.0</td>\n",
       "      <td>64.0</td>\n",
       "      <td>NaN</td>\n",
       "      <td>NaN</td>\n",
       "      <td>23.3</td>\n",
       "      <td>0.672</td>\n",
       "      <td>32</td>\n",
       "      <td>1</td>\n",
       "    </tr>\n",
       "    <tr>\n",
       "      <th>3</th>\n",
       "      <td>1</td>\n",
       "      <td>89.0</td>\n",
       "      <td>66.0</td>\n",
       "      <td>23.0</td>\n",
       "      <td>94.0</td>\n",
       "      <td>28.1</td>\n",
       "      <td>0.167</td>\n",
       "      <td>21</td>\n",
       "      <td>0</td>\n",
       "    </tr>\n",
       "    <tr>\n",
       "      <th>4</th>\n",
       "      <td>0</td>\n",
       "      <td>137.0</td>\n",
       "      <td>40.0</td>\n",
       "      <td>35.0</td>\n",
       "      <td>168.0</td>\n",
       "      <td>43.1</td>\n",
       "      <td>2.288</td>\n",
       "      <td>33</td>\n",
       "      <td>1</td>\n",
       "    </tr>\n",
       "  </tbody>\n",
       "</table>\n",
       "</div>"
      ],
      "text/plain": [
       "   Pregnancies  Glucose  BloodPressure  SkinThickness  Insulin   BMI  \\\n",
       "0            6    148.0           72.0           35.0      NaN  33.6   \n",
       "1            1     85.0           66.0           29.0      NaN  26.6   \n",
       "2            8    183.0           64.0            NaN      NaN  23.3   \n",
       "3            1     89.0           66.0           23.0     94.0  28.1   \n",
       "4            0    137.0           40.0           35.0    168.0  43.1   \n",
       "\n",
       "   DiabetesPedigreeFunction  Age  Outcome  \n",
       "0                     0.627   50        1  \n",
       "1                     0.351   31        0  \n",
       "2                     0.672   32        1  \n",
       "3                     0.167   21        0  \n",
       "4                     2.288   33        1  "
      ]
     },
     "execution_count": 11,
     "metadata": {},
     "output_type": "execute_result"
    }
   ],
   "source": [
    "df.head()"
   ]
  },
  {
   "cell_type": "code",
   "execution_count": 12,
   "id": "fifty-telescope",
   "metadata": {
    "execution": {
     "iopub.execute_input": "2021-06-01T06:56:42.884614Z",
     "iopub.status.busy": "2021-06-01T06:56:42.883848Z",
     "iopub.status.idle": "2021-06-01T06:56:42.892945Z",
     "shell.execute_reply": "2021-06-01T06:56:42.892206Z",
     "shell.execute_reply.started": "2021-06-01T06:54:40.182714Z"
    },
    "papermill": {
     "duration": 0.065709,
     "end_time": "2021-06-01T06:56:42.893171",
     "exception": false,
     "start_time": "2021-06-01T06:56:42.827462",
     "status": "completed"
    },
    "tags": []
   },
   "outputs": [
    {
     "data": {
      "text/plain": [
       "Pregnancies                   0\n",
       "Glucose                       5\n",
       "BloodPressure                35\n",
       "SkinThickness               227\n",
       "Insulin                     374\n",
       "BMI                          11\n",
       "DiabetesPedigreeFunction      0\n",
       "Age                           0\n",
       "Outcome                       0\n",
       "dtype: int64"
      ]
     },
     "execution_count": 12,
     "metadata": {},
     "output_type": "execute_result"
    }
   ],
   "source": [
    "# Now check again the count of Null values \n",
    "df.isnull().sum()"
   ]
  },
  {
   "cell_type": "markdown",
   "id": "prime-kruger",
   "metadata": {
    "papermill": {
     "duration": 0.05325,
     "end_time": "2021-06-01T06:56:42.999234",
     "exception": false,
     "start_time": "2021-06-01T06:56:42.945984",
     "status": "completed"
    },
    "tags": []
   },
   "source": [
    "* **We can see there are lot of null values in SkinThickness and Insulin column.**"
   ]
  },
  {
   "cell_type": "markdown",
   "id": "mechanical-hardwood",
   "metadata": {
    "papermill": {
     "duration": 0.052861,
     "end_time": "2021-06-01T06:56:43.105233",
     "exception": false,
     "start_time": "2021-06-01T06:56:43.052372",
     "status": "completed"
    },
    "tags": []
   },
   "source": [
    "## Data Cleaning"
   ]
  },
  {
   "cell_type": "code",
   "execution_count": 13,
   "id": "exempt-junction",
   "metadata": {
    "execution": {
     "iopub.execute_input": "2021-06-01T06:56:43.214370Z",
     "iopub.status.busy": "2021-06-01T06:56:43.213626Z",
     "iopub.status.idle": "2021-06-01T06:56:43.221953Z",
     "shell.execute_reply": "2021-06-01T06:56:43.222529Z",
     "shell.execute_reply.started": "2021-06-01T06:54:40.195529Z"
    },
    "papermill": {
     "duration": 0.064852,
     "end_time": "2021-06-01T06:56:43.222788",
     "exception": false,
     "start_time": "2021-06-01T06:56:43.157936",
     "status": "completed"
    },
    "tags": []
   },
   "outputs": [],
   "source": [
    "#Imputing mean instead of null values\n",
    "for col in features_with_zero:\n",
    "    df[col].replace(np.nan, df[col].mean(), inplace=True)"
   ]
  },
  {
   "cell_type": "code",
   "execution_count": 14,
   "id": "democratic-celtic",
   "metadata": {
    "execution": {
     "iopub.execute_input": "2021-06-01T06:56:43.332988Z",
     "iopub.status.busy": "2021-06-01T06:56:43.332265Z",
     "iopub.status.idle": "2021-06-01T06:56:43.373951Z",
     "shell.execute_reply": "2021-06-01T06:56:43.374466Z",
     "shell.execute_reply.started": "2021-06-01T06:54:40.210223Z"
    },
    "papermill": {
     "duration": 0.09865,
     "end_time": "2021-06-01T06:56:43.374682",
     "exception": false,
     "start_time": "2021-06-01T06:56:43.276032",
     "status": "completed"
    },
    "tags": []
   },
   "outputs": [
    {
     "data": {
      "text/html": [
       "<div>\n",
       "<style scoped>\n",
       "    .dataframe tbody tr th:only-of-type {\n",
       "        vertical-align: middle;\n",
       "    }\n",
       "\n",
       "    .dataframe tbody tr th {\n",
       "        vertical-align: top;\n",
       "    }\n",
       "\n",
       "    .dataframe thead th {\n",
       "        text-align: right;\n",
       "    }\n",
       "</style>\n",
       "<table border=\"1\" class=\"dataframe\">\n",
       "  <thead>\n",
       "    <tr style=\"text-align: right;\">\n",
       "      <th></th>\n",
       "      <th>Pregnancies</th>\n",
       "      <th>Glucose</th>\n",
       "      <th>BloodPressure</th>\n",
       "      <th>SkinThickness</th>\n",
       "      <th>Insulin</th>\n",
       "      <th>BMI</th>\n",
       "      <th>DiabetesPedigreeFunction</th>\n",
       "      <th>Age</th>\n",
       "      <th>Outcome</th>\n",
       "    </tr>\n",
       "  </thead>\n",
       "  <tbody>\n",
       "    <tr>\n",
       "      <th>count</th>\n",
       "      <td>768.000000</td>\n",
       "      <td>768.000000</td>\n",
       "      <td>768.000000</td>\n",
       "      <td>768.000000</td>\n",
       "      <td>768.000000</td>\n",
       "      <td>768.000000</td>\n",
       "      <td>768.000000</td>\n",
       "      <td>768.000000</td>\n",
       "      <td>768.000000</td>\n",
       "    </tr>\n",
       "    <tr>\n",
       "      <th>mean</th>\n",
       "      <td>3.845052</td>\n",
       "      <td>121.686763</td>\n",
       "      <td>72.405184</td>\n",
       "      <td>29.153420</td>\n",
       "      <td>155.548223</td>\n",
       "      <td>32.457464</td>\n",
       "      <td>0.471876</td>\n",
       "      <td>33.240885</td>\n",
       "      <td>0.348958</td>\n",
       "    </tr>\n",
       "    <tr>\n",
       "      <th>std</th>\n",
       "      <td>3.369578</td>\n",
       "      <td>30.435949</td>\n",
       "      <td>12.096346</td>\n",
       "      <td>8.790942</td>\n",
       "      <td>85.021108</td>\n",
       "      <td>6.875151</td>\n",
       "      <td>0.331329</td>\n",
       "      <td>11.760232</td>\n",
       "      <td>0.476951</td>\n",
       "    </tr>\n",
       "    <tr>\n",
       "      <th>min</th>\n",
       "      <td>0.000000</td>\n",
       "      <td>44.000000</td>\n",
       "      <td>24.000000</td>\n",
       "      <td>7.000000</td>\n",
       "      <td>14.000000</td>\n",
       "      <td>18.200000</td>\n",
       "      <td>0.078000</td>\n",
       "      <td>21.000000</td>\n",
       "      <td>0.000000</td>\n",
       "    </tr>\n",
       "    <tr>\n",
       "      <th>25%</th>\n",
       "      <td>1.000000</td>\n",
       "      <td>99.750000</td>\n",
       "      <td>64.000000</td>\n",
       "      <td>25.000000</td>\n",
       "      <td>121.500000</td>\n",
       "      <td>27.500000</td>\n",
       "      <td>0.243750</td>\n",
       "      <td>24.000000</td>\n",
       "      <td>0.000000</td>\n",
       "    </tr>\n",
       "    <tr>\n",
       "      <th>50%</th>\n",
       "      <td>3.000000</td>\n",
       "      <td>117.000000</td>\n",
       "      <td>72.202592</td>\n",
       "      <td>29.153420</td>\n",
       "      <td>155.548223</td>\n",
       "      <td>32.400000</td>\n",
       "      <td>0.372500</td>\n",
       "      <td>29.000000</td>\n",
       "      <td>0.000000</td>\n",
       "    </tr>\n",
       "    <tr>\n",
       "      <th>75%</th>\n",
       "      <td>6.000000</td>\n",
       "      <td>140.250000</td>\n",
       "      <td>80.000000</td>\n",
       "      <td>32.000000</td>\n",
       "      <td>155.548223</td>\n",
       "      <td>36.600000</td>\n",
       "      <td>0.626250</td>\n",
       "      <td>41.000000</td>\n",
       "      <td>1.000000</td>\n",
       "    </tr>\n",
       "    <tr>\n",
       "      <th>max</th>\n",
       "      <td>17.000000</td>\n",
       "      <td>199.000000</td>\n",
       "      <td>122.000000</td>\n",
       "      <td>99.000000</td>\n",
       "      <td>846.000000</td>\n",
       "      <td>67.100000</td>\n",
       "      <td>2.420000</td>\n",
       "      <td>81.000000</td>\n",
       "      <td>1.000000</td>\n",
       "    </tr>\n",
       "  </tbody>\n",
       "</table>\n",
       "</div>"
      ],
      "text/plain": [
       "       Pregnancies     Glucose  BloodPressure  SkinThickness     Insulin  \\\n",
       "count   768.000000  768.000000     768.000000     768.000000  768.000000   \n",
       "mean      3.845052  121.686763      72.405184      29.153420  155.548223   \n",
       "std       3.369578   30.435949      12.096346       8.790942   85.021108   \n",
       "min       0.000000   44.000000      24.000000       7.000000   14.000000   \n",
       "25%       1.000000   99.750000      64.000000      25.000000  121.500000   \n",
       "50%       3.000000  117.000000      72.202592      29.153420  155.548223   \n",
       "75%       6.000000  140.250000      80.000000      32.000000  155.548223   \n",
       "max      17.000000  199.000000     122.000000      99.000000  846.000000   \n",
       "\n",
       "              BMI  DiabetesPedigreeFunction         Age     Outcome  \n",
       "count  768.000000                768.000000  768.000000  768.000000  \n",
       "mean    32.457464                  0.471876   33.240885    0.348958  \n",
       "std      6.875151                  0.331329   11.760232    0.476951  \n",
       "min     18.200000                  0.078000   21.000000    0.000000  \n",
       "25%     27.500000                  0.243750   24.000000    0.000000  \n",
       "50%     32.400000                  0.372500   29.000000    0.000000  \n",
       "75%     36.600000                  0.626250   41.000000    1.000000  \n",
       "max     67.100000                  2.420000   81.000000    1.000000  "
      ]
     },
     "execution_count": 14,
     "metadata": {},
     "output_type": "execute_result"
    }
   ],
   "source": [
    "# summary statistics\n",
    "df.describe()"
   ]
  },
  {
   "cell_type": "markdown",
   "id": "scientific-liberia",
   "metadata": {
    "papermill": {
     "duration": 0.053722,
     "end_time": "2021-06-01T06:56:43.481889",
     "exception": false,
     "start_time": "2021-06-01T06:56:43.428167",
     "status": "completed"
    },
    "tags": []
   },
   "source": [
    "**Now we can see,mean of Insulin and SkinThickness has increased.**"
   ]
  },
  {
   "cell_type": "markdown",
   "id": "romantic-referral",
   "metadata": {
    "papermill": {
     "duration": 0.053127,
     "end_time": "2021-06-01T06:56:43.589963",
     "exception": false,
     "start_time": "2021-06-01T06:56:43.536836",
     "status": "completed"
    },
    "tags": []
   },
   "source": [
    "## Data PreProcessing"
   ]
  },
  {
   "cell_type": "markdown",
   "id": "innovative-authorization",
   "metadata": {
    "papermill": {
     "duration": 0.053368,
     "end_time": "2021-06-01T06:56:43.698904",
     "exception": false,
     "start_time": "2021-06-01T06:56:43.645536",
     "status": "completed"
    },
    "tags": []
   },
   "source": [
    "#### Separating dependent and independent features"
   ]
  },
  {
   "cell_type": "code",
   "execution_count": 15,
   "id": "searching-appointment",
   "metadata": {
    "execution": {
     "iopub.execute_input": "2021-06-01T06:56:43.811277Z",
     "iopub.status.busy": "2021-06-01T06:56:43.810419Z",
     "iopub.status.idle": "2021-06-01T06:56:43.816055Z",
     "shell.execute_reply": "2021-06-01T06:56:43.816604Z",
     "shell.execute_reply.started": "2021-06-01T06:54:40.261077Z"
    },
    "papermill": {
     "duration": 0.064348,
     "end_time": "2021-06-01T06:56:43.816833",
     "exception": false,
     "start_time": "2021-06-01T06:56:43.752485",
     "status": "completed"
    },
    "tags": []
   },
   "outputs": [],
   "source": [
    "X = df.drop('Outcome',axis=1)\n",
    "y = df['Outcome']"
   ]
  },
  {
   "cell_type": "markdown",
   "id": "african-universal",
   "metadata": {
    "papermill": {
     "duration": 0.052926,
     "end_time": "2021-06-01T06:56:43.923324",
     "exception": false,
     "start_time": "2021-06-01T06:56:43.870398",
     "status": "completed"
    },
    "tags": []
   },
   "source": [
    "#### Splitting the Dataset into Training and Test Set"
   ]
  },
  {
   "cell_type": "code",
   "execution_count": 16,
   "id": "norman-theater",
   "metadata": {
    "execution": {
     "iopub.execute_input": "2021-06-01T06:56:44.034141Z",
     "iopub.status.busy": "2021-06-01T06:56:44.033394Z",
     "iopub.status.idle": "2021-06-01T06:56:44.043199Z",
     "shell.execute_reply": "2021-06-01T06:56:44.042548Z",
     "shell.execute_reply.started": "2021-06-01T06:54:40.269421Z"
    },
    "papermill": {
     "duration": 0.066251,
     "end_time": "2021-06-01T06:56:44.043363",
     "exception": false,
     "start_time": "2021-06-01T06:56:43.977112",
     "status": "completed"
    },
    "tags": []
   },
   "outputs": [],
   "source": [
    "X_train, X_test, y_train, y_test = train_test_split(X, y,\n",
    "                                                   test_size=0.2,\n",
    "                                                   random_state=50)"
   ]
  },
  {
   "cell_type": "markdown",
   "id": "breathing-dialogue",
   "metadata": {
    "papermill": {
     "duration": 0.053354,
     "end_time": "2021-06-01T06:56:44.151570",
     "exception": false,
     "start_time": "2021-06-01T06:56:44.098216",
     "status": "completed"
    },
    "tags": []
   },
   "source": [
    "#### Feature Scaling"
   ]
  },
  {
   "cell_type": "code",
   "execution_count": 17,
   "id": "separated-attempt",
   "metadata": {
    "execution": {
     "iopub.execute_input": "2021-06-01T06:56:44.273064Z",
     "iopub.status.busy": "2021-06-01T06:56:44.267115Z",
     "iopub.status.idle": "2021-06-01T06:56:44.276372Z",
     "shell.execute_reply": "2021-06-01T06:56:44.275768Z",
     "shell.execute_reply.started": "2021-06-01T06:54:40.288214Z"
    },
    "papermill": {
     "duration": 0.0711,
     "end_time": "2021-06-01T06:56:44.276540",
     "exception": false,
     "start_time": "2021-06-01T06:56:44.205440",
     "status": "completed"
    },
    "tags": []
   },
   "outputs": [],
   "source": [
    "ss = StandardScaler()\n",
    "X_train = ss.fit_transform(X_train)\n",
    "X_test = ss.transform(X_test)"
   ]
  },
  {
   "cell_type": "markdown",
   "id": "academic-vulnerability",
   "metadata": {
    "papermill": {
     "duration": 0.053187,
     "end_time": "2021-06-01T06:56:44.383646",
     "exception": false,
     "start_time": "2021-06-01T06:56:44.330459",
     "status": "completed"
    },
    "tags": []
   },
   "source": [
    "## Model Building"
   ]
  },
  {
   "cell_type": "markdown",
   "id": "wired-seventh",
   "metadata": {
    "papermill": {
     "duration": 0.052957,
     "end_time": "2021-06-01T06:56:44.490025",
     "exception": false,
     "start_time": "2021-06-01T06:56:44.437068",
     "status": "completed"
    },
    "tags": []
   },
   "source": [
    "#### Helper Function"
   ]
  },
  {
   "cell_type": "code",
   "execution_count": 18,
   "id": "hollywood-glance",
   "metadata": {
    "execution": {
     "iopub.execute_input": "2021-06-01T06:56:44.607580Z",
     "iopub.status.busy": "2021-06-01T06:56:44.606452Z",
     "iopub.status.idle": "2021-06-01T06:56:44.610164Z",
     "shell.execute_reply": "2021-06-01T06:56:44.609505Z",
     "shell.execute_reply.started": "2021-06-01T06:54:40.306705Z"
    },
    "papermill": {
     "duration": 0.066884,
     "end_time": "2021-06-01T06:56:44.610320",
     "exception": false,
     "start_time": "2021-06-01T06:56:44.543436",
     "status": "completed"
    },
    "tags": []
   },
   "outputs": [],
   "source": [
    "#Helper functions to check the performance of different classifiers\n",
    "\n",
    "#function to display confusion matrix\n",
    "def displayConfusionMatrix(y_test, y_pred):\n",
    "    \"\"\"Displays the confusion matrix in the form of heatmap.\n",
    "    \n",
    "    Parameters:\n",
    "    y_test (array-like): list of true labels\n",
    "    y_pred (array-like): list of predicted labels\n",
    "    \n",
    "    Returns:\n",
    "    acc_score (float): Accuracy score \n",
    "    \"\"\"\n",
    "    acc_score = accuracy_score(y_test, y_pred)\n",
    "    cm = confusion_matrix(y_test, y_pred)\n",
    "    sns.heatmap(cm, annot=True, fmt=\"d\",cmap='plasma')\n",
    "    plt.title(f\"Accuracy: {acc_score:0.3f}\")\n",
    "    plt.xlabel(\"Predicted labels\")\n",
    "    plt.ylabel(\"Actual labels\")\n",
    "    plt.show()\n",
    "    return acc_score\n",
    "\n",
    "#function to build model and display classification report of a classifer\n",
    "def model(classifier, X_train=X_train, y_train=y_train,\n",
    "              X_test=X_test, y_test=y_test):\n",
    "    \"\"\"Fits the `classifier` to `X_train`, `y_train` and generate an elegant \n",
    "    classification report using `X_test` and `y_test`.\n",
    "    \n",
    "    Parameters:\n",
    "    classifer : classifier obj implementing 'fit' method.\n",
    "    X_train (array-like): 2D-array of input features of Training Set.\n",
    "    y_train (array-like): list of target features of Training Set.\n",
    "    X_test  (array-like): 2D-array of input features of Testing Set.\n",
    "    y_test  (array-like): list of target features of Testing Set.\n",
    "    \n",
    "    Returns:\n",
    "    acc_score (float): Accuracy score \n",
    "    \"\"\"\n",
    "    classifier.fit(X_train, y_train)\n",
    "    y_pred = classifier.predict(X_test)\n",
    "    acc_score = displayConfusionMatrix(y_test, y_pred)\n",
    "    print(classification_report(y_test, y_pred))\n",
    "    return acc_score"
   ]
  },
  {
   "cell_type": "markdown",
   "id": "brave-technique",
   "metadata": {
    "papermill": {
     "duration": 0.053296,
     "end_time": "2021-06-01T06:56:44.718824",
     "exception": false,
     "start_time": "2021-06-01T06:56:44.665528",
     "status": "completed"
    },
    "tags": []
   },
   "source": [
    "### Logistic Regression"
   ]
  },
  {
   "cell_type": "code",
   "execution_count": 19,
   "id": "visible-plate",
   "metadata": {
    "execution": {
     "iopub.execute_input": "2021-06-01T06:56:44.834597Z",
     "iopub.status.busy": "2021-06-01T06:56:44.833603Z",
     "iopub.status.idle": "2021-06-01T06:56:45.105707Z",
     "shell.execute_reply": "2021-06-01T06:56:45.104879Z",
     "shell.execute_reply.started": "2021-06-01T06:54:40.323394Z"
    },
    "papermill": {
     "duration": 0.333337,
     "end_time": "2021-06-01T06:56:45.105949",
     "exception": false,
     "start_time": "2021-06-01T06:56:44.772612",
     "status": "completed"
    },
    "tags": []
   },
   "outputs": [
    {
     "data": {
      "image/png": "[encoded data removed]",
      "text/plain": [
       "<Figure size 432x288 with 2 Axes>"
      ]
     },
     "metadata": {
      "needs_background": "light"
     },
     "output_type": "display_data"
    },
    {
     "name": "stdout",
     "output_type": "stream",
     "text": [
      "              precision    recall  f1-score   support\n",
      "\n",
      "           0       0.76      0.88      0.82       101\n",
      "           1       0.68      0.47      0.56        53\n",
      "\n",
      "    accuracy                           0.74       154\n",
      "   macro avg       0.72      0.68      0.69       154\n",
      "weighted avg       0.73      0.74      0.73       154\n",
      "\n"
     ]
    }
   ],
   "source": [
    "log = LogisticRegression(random_state = 50)\n",
    "log_accuracy = model(log)"
   ]
  },
  {
   "cell_type": "markdown",
   "id": "romantic-consideration",
   "metadata": {
    "papermill": {
     "duration": 0.053987,
     "end_time": "2021-06-01T06:56:45.214822",
     "exception": false,
     "start_time": "2021-06-01T06:56:45.160835",
     "status": "completed"
    },
    "tags": []
   },
   "source": [
    "### KNN"
   ]
  },
  {
   "cell_type": "code",
   "execution_count": 20,
   "id": "fifty-worry",
   "metadata": {
    "execution": {
     "iopub.execute_input": "2021-06-01T06:56:45.332481Z",
     "iopub.status.busy": "2021-06-01T06:56:45.331722Z",
     "iopub.status.idle": "2021-06-01T06:56:45.603577Z",
     "shell.execute_reply": "2021-06-01T06:56:45.601984Z",
     "shell.execute_reply.started": "2021-06-01T06:54:40.624554Z"
    },
    "papermill": {
     "duration": 0.334646,
     "end_time": "2021-06-01T06:56:45.603778",
     "exception": false,
     "start_time": "2021-06-01T06:56:45.269132",
     "status": "completed"
    },
    "tags": []
   },
   "outputs": [
    {
     "data": {
      "image/png": "[encoded data removed]",
      "text/plain": [
       "<Figure size 432x288 with 2 Axes>"
      ]
     },
     "metadata": {
      "needs_background": "light"
     },
     "output_type": "display_data"
    },
    {
     "name": "stdout",
     "output_type": "stream",
     "text": [
      "              precision    recall  f1-score   support\n",
      "\n",
      "           0       0.76      0.85      0.80       101\n",
      "           1       0.63      0.49      0.55        53\n",
      "\n",
      "    accuracy                           0.73       154\n",
      "   macro avg       0.70      0.67      0.68       154\n",
      "weighted avg       0.72      0.73      0.72       154\n",
      "\n"
     ]
    }
   ],
   "source": [
    "knn= KNeighborsClassifier(n_neighbors=7)\n",
    "knn_accuracy = model(knn)"
   ]
  },
  {
   "cell_type": "markdown",
   "id": "plastic-customs",
   "metadata": {
    "papermill": {
     "duration": 0.054898,
     "end_time": "2021-06-01T06:56:45.715964",
     "exception": false,
     "start_time": "2021-06-01T06:56:45.661066",
     "status": "completed"
    },
    "tags": []
   },
   "source": [
    "### Linear-Support Vector Machine(SVM)"
   ]
  },
  {
   "cell_type": "code",
   "execution_count": 21,
   "id": "every-husband",
   "metadata": {
    "execution": {
     "iopub.execute_input": "2021-06-01T06:56:45.835648Z",
     "iopub.status.busy": "2021-06-01T06:56:45.834532Z",
     "iopub.status.idle": "2021-06-01T06:56:46.108198Z",
     "shell.execute_reply": "2021-06-01T06:56:46.107242Z",
     "shell.execute_reply.started": "2021-06-01T06:54:40.898685Z"
    },
    "papermill": {
     "duration": 0.3373,
     "end_time": "2021-06-01T06:56:46.108414",
     "exception": false,
     "start_time": "2021-06-01T06:56:45.771114",
     "status": "completed"
    },
    "tags": []
   },
   "outputs": [
    {
     "data": {
      "image/png": "[encoded data removed]",
      "text/plain": [
       "<Figure size 432x288 with 2 Axes>"
      ]
     },
     "metadata": {
      "needs_background": "light"
     },
     "output_type": "display_data"
    },
    {
     "name": "stdout",
     "output_type": "stream",
     "text": [
      "              precision    recall  f1-score   support\n",
      "\n",
      "           0       0.75      0.87      0.80       101\n",
      "           1       0.64      0.43      0.52        53\n",
      "\n",
      "    accuracy                           0.72       154\n",
      "   macro avg       0.69      0.65      0.66       154\n",
      "weighted avg       0.71      0.72      0.70       154\n",
      "\n"
     ]
    }
   ],
   "source": [
    "linear_svm = SVC(kernel=\"linear\", random_state=50)\n",
    "lsvm_accuracy = model(linear_svm)"
   ]
  },
  {
   "cell_type": "markdown",
   "id": "hourly-liver",
   "metadata": {
    "papermill": {
     "duration": 0.056537,
     "end_time": "2021-06-01T06:56:46.224174",
     "exception": false,
     "start_time": "2021-06-01T06:56:46.167637",
     "status": "completed"
    },
    "tags": []
   },
   "source": [
    "### Radial-Support Vector Machine(SVM)"
   ]
  },
  {
   "cell_type": "code",
   "execution_count": 22,
   "id": "wired-collective",
   "metadata": {
    "execution": {
     "iopub.execute_input": "2021-06-01T06:56:46.345445Z",
     "iopub.status.busy": "2021-06-01T06:56:46.344325Z",
     "iopub.status.idle": "2021-06-01T06:56:46.626080Z",
     "shell.execute_reply": "2021-06-01T06:56:46.625430Z",
     "shell.execute_reply.started": "2021-06-01T06:54:41.184126Z"
    },
    "papermill": {
     "duration": 0.345265,
     "end_time": "2021-06-01T06:56:46.626246",
     "exception": false,
     "start_time": "2021-06-01T06:56:46.280981",
     "status": "completed"
    },
    "tags": []
   },
   "outputs": [
    {
     "data": {
      "image/png": "[encoded data removed]",
      "text/plain": [
       "<Figure size 432x288 with 2 Axes>"
      ]
     },
     "metadata": {
      "needs_background": "light"
     },
     "output_type": "display_data"
    },
    {
     "name": "stdout",
     "output_type": "stream",
     "text": [
      "              precision    recall  f1-score   support\n",
      "\n",
      "           0       0.73      0.85      0.79       101\n",
      "           1       0.58      0.40      0.47        53\n",
      "\n",
      "    accuracy                           0.69       154\n",
      "   macro avg       0.66      0.62      0.63       154\n",
      "weighted avg       0.68      0.69      0.68       154\n",
      "\n"
     ]
    }
   ],
   "source": [
    "radial_svm = SVC(kernel=\"rbf\", random_state=50)\n",
    "rsvm_accuracy = model(radial_svm)"
   ]
  },
  {
   "cell_type": "markdown",
   "id": "several-rebecca",
   "metadata": {
    "papermill": {
     "duration": 0.056968,
     "end_time": "2021-06-01T06:56:46.742367",
     "exception": false,
     "start_time": "2021-06-01T06:56:46.685399",
     "status": "completed"
    },
    "tags": []
   },
   "source": [
    "### Naive Bayes"
   ]
  },
  {
   "cell_type": "code",
   "execution_count": 23,
   "id": "constitutional-walnut",
   "metadata": {
    "execution": {
     "iopub.execute_input": "2021-06-01T06:56:46.866452Z",
     "iopub.status.busy": "2021-06-01T06:56:46.865265Z",
     "iopub.status.idle": "2021-06-01T06:56:47.121990Z",
     "shell.execute_reply": "2021-06-01T06:56:47.121245Z",
     "shell.execute_reply.started": "2021-06-01T06:54:41.465978Z"
    },
    "papermill": {
     "duration": 0.322476,
     "end_time": "2021-06-01T06:56:47.122160",
     "exception": false,
     "start_time": "2021-06-01T06:56:46.799684",
     "status": "completed"
    },
    "tags": []
   },
   "outputs": [
    {
     "data": {
      "image/png": "[encoded data removed]",
      "text/plain": [
       "<Figure size 432x288 with 2 Axes>"
      ]
     },
     "metadata": {
      "needs_background": "light"
     },
     "output_type": "display_data"
    },
    {
     "name": "stdout",
     "output_type": "stream",
     "text": [
      "              precision    recall  f1-score   support\n",
      "\n",
      "           0       0.77      0.82      0.79       101\n",
      "           1       0.61      0.53      0.57        53\n",
      "\n",
      "    accuracy                           0.72       154\n",
      "   macro avg       0.69      0.68      0.68       154\n",
      "weighted avg       0.71      0.72      0.72       154\n",
      "\n"
     ]
    }
   ],
   "source": [
    "nb = GaussianNB()\n",
    "nb_accuracy = model(nb)"
   ]
  },
  {
   "cell_type": "markdown",
   "id": "accompanied-bulgaria",
   "metadata": {
    "papermill": {
     "duration": 0.058043,
     "end_time": "2021-06-01T06:56:47.239135",
     "exception": false,
     "start_time": "2021-06-01T06:56:47.181092",
     "status": "completed"
    },
    "tags": []
   },
   "source": [
    "### Decision Tree"
   ]
  },
  {
   "cell_type": "code",
   "execution_count": 24,
   "id": "handed-baptist",
   "metadata": {
    "execution": {
     "iopub.execute_input": "2021-06-01T06:56:47.370263Z",
     "iopub.status.busy": "2021-06-01T06:56:47.369410Z",
     "iopub.status.idle": "2021-06-01T06:56:47.613957Z",
     "shell.execute_reply": "2021-06-01T06:56:47.614498Z",
     "shell.execute_reply.started": "2021-06-01T06:54:41.733616Z"
    },
    "papermill": {
     "duration": 0.317322,
     "end_time": "2021-06-01T06:56:47.614709",
     "exception": false,
     "start_time": "2021-06-01T06:56:47.297387",
     "status": "completed"
    },
    "tags": []
   },
   "outputs": [
    {
     "data": {
      "image/png": "[encoded data removed]",
      "text/plain": [
       "<Figure size 432x288 with 2 Axes>"
      ]
     },
     "metadata": {
      "needs_background": "light"
     },
     "output_type": "display_data"
    },
    {
     "name": "stdout",
     "output_type": "stream",
     "text": [
      "              precision    recall  f1-score   support\n",
      "\n",
      "           0       0.74      0.77      0.76       101\n",
      "           1       0.53      0.49      0.51        53\n",
      "\n",
      "    accuracy                           0.68       154\n",
      "   macro avg       0.64      0.63      0.63       154\n",
      "weighted avg       0.67      0.68      0.67       154\n",
      "\n"
     ]
    }
   ],
   "source": [
    "dt = DecisionTreeClassifier(criterion=\"entropy\",\n",
    "                                             random_state=50)\n",
    "dt_accuracy = model(dt)"
   ]
  },
  {
   "cell_type": "markdown",
   "id": "embedded-portable",
   "metadata": {
    "papermill": {
     "duration": 0.058841,
     "end_time": "2021-06-01T06:56:47.734166",
     "exception": false,
     "start_time": "2021-06-01T06:56:47.675325",
     "status": "completed"
    },
    "tags": []
   },
   "source": [
    "### Random Forest"
   ]
  },
  {
   "cell_type": "code",
   "execution_count": 25,
   "id": "medium-alcohol",
   "metadata": {
    "execution": {
     "iopub.execute_input": "2021-06-01T06:56:47.860144Z",
     "iopub.status.busy": "2021-06-01T06:56:47.859358Z",
     "iopub.status.idle": "2021-06-01T06:56:48.526959Z",
     "shell.execute_reply": "2021-06-01T06:56:48.525891Z",
     "shell.execute_reply.started": "2021-06-01T06:54:41.998836Z"
    },
    "papermill": {
     "duration": 0.733263,
     "end_time": "2021-06-01T06:56:48.527195",
     "exception": false,
     "start_time": "2021-06-01T06:56:47.793932",
     "status": "completed"
    },
    "tags": []
   },
   "outputs": [
    {
     "data": {
      "image/png": "[encoded data removed]",
      "text/plain": [
       "<Figure size 432x288 with 2 Axes>"
      ]
     },
     "metadata": {
      "needs_background": "light"
     },
     "output_type": "display_data"
    },
    {
     "name": "stdout",
     "output_type": "stream",
     "text": [
      "              precision    recall  f1-score   support\n",
      "\n",
      "           0       0.76      0.84      0.80       101\n",
      "           1       0.62      0.49      0.55        53\n",
      "\n",
      "    accuracy                           0.72       154\n",
      "   macro avg       0.69      0.67      0.67       154\n",
      "weighted avg       0.71      0.72      0.71       154\n",
      "\n"
     ]
    }
   ],
   "source": [
    "rf = RandomForestClassifier(n_estimators=150,\n",
    "                                            criterion=\"entropy\",\n",
    "                                            random_state=50)\n",
    "rf_accuracy = model(rf)"
   ]
  },
  {
   "cell_type": "markdown",
   "id": "super-extension",
   "metadata": {
    "papermill": {
     "duration": 0.059915,
     "end_time": "2021-06-01T06:56:48.649380",
     "exception": false,
     "start_time": "2021-06-01T06:56:48.589465",
     "status": "completed"
    },
    "tags": []
   },
   "source": [
    "### XGBoost"
   ]
  },
  {
   "cell_type": "code",
   "execution_count": 26,
   "id": "bridal-bibliography",
   "metadata": {
    "execution": {
     "iopub.execute_input": "2021-06-01T06:56:48.779193Z",
     "iopub.status.busy": "2021-06-01T06:56:48.778014Z",
     "iopub.status.idle": "2021-06-01T06:56:49.141567Z",
     "shell.execute_reply": "2021-06-01T06:56:49.140788Z",
     "shell.execute_reply.started": "2021-06-01T06:54:42.687741Z"
    },
    "papermill": {
     "duration": 0.430638,
     "end_time": "2021-06-01T06:56:49.141752",
     "exception": false,
     "start_time": "2021-06-01T06:56:48.711114",
     "status": "completed"
    },
    "tags": []
   },
   "outputs": [
    {
     "data": {
      "image/png": "[encoded data removed]",
      "text/plain": [
       "<Figure size 432x288 with 2 Axes>"
      ]
     },
     "metadata": {
      "needs_background": "light"
     },
     "output_type": "display_data"
    },
    {
     "name": "stdout",
     "output_type": "stream",
     "text": [
      "              precision    recall  f1-score   support\n",
      "\n",
      "           0       0.78      0.84      0.81       101\n",
      "           1       0.64      0.55      0.59        53\n",
      "\n",
      "    accuracy                           0.74       154\n",
      "   macro avg       0.71      0.69      0.70       154\n",
      "weighted avg       0.73      0.74      0.73       154\n",
      "\n"
     ]
    }
   ],
   "source": [
    "xgb= XGBClassifier(use_label_encoder=False,\n",
    "                       verbosity=0)\n",
    "xgb_accuracy = model(xgb)"
   ]
  },
  {
   "cell_type": "markdown",
   "id": "hollow-olive",
   "metadata": {
    "papermill": {
     "duration": 0.062273,
     "end_time": "2021-06-01T06:56:49.265994",
     "exception": false,
     "start_time": "2021-06-01T06:56:49.203721",
     "status": "completed"
    },
    "tags": []
   },
   "source": [
    "### Model Comparison"
   ]
  },
  {
   "cell_type": "code",
   "execution_count": 27,
   "id": "enhanced-island",
   "metadata": {
    "execution": {
     "iopub.execute_input": "2021-06-01T06:56:49.406132Z",
     "iopub.status.busy": "2021-06-01T06:56:49.403207Z",
     "iopub.status.idle": "2021-06-01T06:56:49.410765Z",
     "shell.execute_reply": "2021-06-01T06:56:49.410097Z",
     "shell.execute_reply.started": "2021-06-01T06:54:43.068857Z"
    },
    "papermill": {
     "duration": 0.08129,
     "end_time": "2021-06-01T06:56:49.410923",
     "exception": false,
     "start_time": "2021-06-01T06:56:49.329633",
     "status": "completed"
    },
    "tags": []
   },
   "outputs": [
    {
     "data": {
      "text/html": [
       "<div>\n",
       "<style scoped>\n",
       "    .dataframe tbody tr th:only-of-type {\n",
       "        vertical-align: middle;\n",
       "    }\n",
       "\n",
       "    .dataframe tbody tr th {\n",
       "        vertical-align: top;\n",
       "    }\n",
       "\n",
       "    .dataframe thead th {\n",
       "        text-align: right;\n",
       "    }\n",
       "</style>\n",
       "<table border=\"1\" class=\"dataframe\">\n",
       "  <thead>\n",
       "    <tr style=\"text-align: right;\">\n",
       "      <th></th>\n",
       "      <th>Model</th>\n",
       "      <th>Accuracy Score</th>\n",
       "    </tr>\n",
       "  </thead>\n",
       "  <tbody>\n",
       "    <tr>\n",
       "      <th>0</th>\n",
       "      <td>Logistic Regression</td>\n",
       "      <td>0.740260</td>\n",
       "    </tr>\n",
       "    <tr>\n",
       "      <th>1</th>\n",
       "      <td>XGBoost</td>\n",
       "      <td>0.740260</td>\n",
       "    </tr>\n",
       "    <tr>\n",
       "      <th>2</th>\n",
       "      <td>KNN</td>\n",
       "      <td>0.727273</td>\n",
       "    </tr>\n",
       "    <tr>\n",
       "      <th>3</th>\n",
       "      <td>SVM-Linear</td>\n",
       "      <td>0.720779</td>\n",
       "    </tr>\n",
       "    <tr>\n",
       "      <th>4</th>\n",
       "      <td>Naive Bayes</td>\n",
       "      <td>0.720779</td>\n",
       "    </tr>\n",
       "    <tr>\n",
       "      <th>5</th>\n",
       "      <td>Random Forest</td>\n",
       "      <td>0.720779</td>\n",
       "    </tr>\n",
       "    <tr>\n",
       "      <th>6</th>\n",
       "      <td>SVM-RBF</td>\n",
       "      <td>0.694805</td>\n",
       "    </tr>\n",
       "    <tr>\n",
       "      <th>7</th>\n",
       "      <td>Decision Tree</td>\n",
       "      <td>0.675325</td>\n",
       "    </tr>\n",
       "  </tbody>\n",
       "</table>\n",
       "</div>"
      ],
      "text/plain": [
       "                 Model  Accuracy Score\n",
       "0  Logistic Regression        0.740260\n",
       "1              XGBoost        0.740260\n",
       "2                  KNN        0.727273\n",
       "3           SVM-Linear        0.720779\n",
       "4          Naive Bayes        0.720779\n",
       "5        Random Forest        0.720779\n",
       "6              SVM-RBF        0.694805\n",
       "7        Decision Tree        0.675325"
      ]
     },
     "execution_count": 27,
     "metadata": {},
     "output_type": "execute_result"
    }
   ],
   "source": [
    "models = pd.DataFrame({\n",
    "    'Model': [\"Logistic Regression\", \"KNN\", \"SVM-Linear\", \"SVM-RBF\", \n",
    "             \"Naive Bayes\", \"Decision Tree\", \"Random Forest\", \"XGBoost\"],\n",
    "    'Accuracy Score': [log_accuracy, knn_accuracy, lsvm_accuracy, rsvm_accuracy, \n",
    "                       nb_accuracy, dt_accuracy, rf_accuracy, xgb_accuracy]\n",
    "})\n",
    "\n",
    "models.sort_values(by = 'Accuracy Score', ascending = False, ignore_index=True)"
   ]
  },
  {
   "cell_type": "markdown",
   "id": "italian-glenn",
   "metadata": {
    "papermill": {
     "duration": 0.062107,
     "end_time": "2021-06-01T06:56:49.535367",
     "exception": false,
     "start_time": "2021-06-01T06:56:49.473260",
     "status": "completed"
    },
    "tags": []
   },
   "source": [
    "* **It seems like Logistic Regression and XGBoost performs best!**\n",
    "* **But before we jump into any conclusions let's perform K-fold cross validation.**"
   ]
  },
  {
   "cell_type": "markdown",
   "id": "above-occupation",
   "metadata": {
    "papermill": {
     "duration": 0.061216,
     "end_time": "2021-06-01T06:56:49.658653",
     "exception": false,
     "start_time": "2021-06-01T06:56:49.597437",
     "status": "completed"
    },
    "tags": []
   },
   "source": [
    "### K-Fold Cross Validation"
   ]
  },
  {
   "cell_type": "markdown",
   "id": "universal-blowing",
   "metadata": {
    "papermill": {
     "duration": 0.062005,
     "end_time": "2021-06-01T06:56:49.784937",
     "exception": false,
     "start_time": "2021-06-01T06:56:49.722932",
     "status": "completed"
    },
    "tags": []
   },
   "source": [
    "#### Helper Function"
   ]
  },
  {
   "cell_type": "code",
   "execution_count": 28,
   "id": "structural-tonight",
   "metadata": {
    "execution": {
     "iopub.execute_input": "2021-06-01T06:56:49.913840Z",
     "iopub.status.busy": "2021-06-01T06:56:49.913077Z",
     "iopub.status.idle": "2021-06-01T06:56:49.919096Z",
     "shell.execute_reply": "2021-06-01T06:56:49.919581Z",
     "shell.execute_reply.started": "2021-06-01T06:54:43.089950Z"
    },
    "papermill": {
     "duration": 0.072177,
     "end_time": "2021-06-01T06:56:49.919808",
     "exception": false,
     "start_time": "2021-06-01T06:56:49.847631",
     "status": "completed"
    },
    "tags": []
   },
   "outputs": [],
   "source": [
    "def perform_kfold(clf, X_train=X_train, y_train=y_train):\n",
    "    \"\"\"Performs k-fold cross validation on given data(X_train, y_train) using \n",
    "    the `clf` (aka classifier)\n",
    "    \n",
    "    Parameters:\n",
    "    classifer : classifier obj implementing 'fit' method.\n",
    "    X_train (array-like): 2D-array of input features of Training Set.\n",
    "    y_train (array-like): list of target features of Training Set.\n",
    "    \n",
    "    Returns:\n",
    "    mean_score (float): Mean of Accuracy scores after operation.\n",
    "    std_score  (float): Standard Deviation of Accuracy scores.\n",
    "    \"\"\"\n",
    "    scores = cross_val_score(estimator=clf, X=X_train, y=y_train, \n",
    "                            cv=10\n",
    "                            )\n",
    "    \n",
    "    mean_score = scores.mean()\n",
    "    std_score = scores.std()\n",
    "    print(f\"Mean Accuracy: {mean_score*100:0.3f} %\")\n",
    "    print(f\"Standard Deviation: {std_score*100:0.3f} %\")\n",
    "    \n",
    "    return mean_score, std_score"
   ]
  },
  {
   "cell_type": "markdown",
   "id": "aboriginal-celtic",
   "metadata": {
    "papermill": {
     "duration": 0.063141,
     "end_time": "2021-06-01T06:56:50.046024",
     "exception": false,
     "start_time": "2021-06-01T06:56:49.982883",
     "status": "completed"
    },
    "tags": []
   },
   "source": [
    "#### Logistic Regression"
   ]
  },
  {
   "cell_type": "code",
   "execution_count": 29,
   "id": "taken-elite",
   "metadata": {
    "execution": {
     "iopub.execute_input": "2021-06-01T06:56:50.177941Z",
     "iopub.status.busy": "2021-06-01T06:56:50.177216Z",
     "iopub.status.idle": "2021-06-01T06:56:50.254826Z",
     "shell.execute_reply": "2021-06-01T06:56:50.254069Z",
     "shell.execute_reply.started": "2021-06-01T06:54:43.100795Z"
    },
    "papermill": {
     "duration": 0.145426,
     "end_time": "2021-06-01T06:56:50.255004",
     "exception": false,
     "start_time": "2021-06-01T06:56:50.109578",
     "status": "completed"
    },
    "tags": []
   },
   "outputs": [
    {
     "name": "stdout",
     "output_type": "stream",
     "text": [
      "Mean Accuracy: 77.525 %\n",
      "Standard Deviation: 4.168 %\n"
     ]
    }
   ],
   "source": [
    "log_macc, log_std = perform_kfold(log)"
   ]
  },
  {
   "cell_type": "markdown",
   "id": "sunset-trash",
   "metadata": {
    "papermill": {
     "duration": 0.081194,
     "end_time": "2021-06-01T06:56:50.400678",
     "exception": false,
     "start_time": "2021-06-01T06:56:50.319484",
     "status": "completed"
    },
    "tags": []
   },
   "source": [
    "#### KNN"
   ]
  },
  {
   "cell_type": "code",
   "execution_count": 30,
   "id": "classical-telephone",
   "metadata": {
    "execution": {
     "iopub.execute_input": "2021-06-01T06:56:50.544434Z",
     "iopub.status.busy": "2021-06-01T06:56:50.543651Z",
     "iopub.status.idle": "2021-06-01T06:56:50.611983Z",
     "shell.execute_reply": "2021-06-01T06:56:50.611349Z",
     "shell.execute_reply.started": "2021-06-01T06:54:43.195212Z"
    },
    "papermill": {
     "duration": 0.138592,
     "end_time": "2021-06-01T06:56:50.612157",
     "exception": false,
     "start_time": "2021-06-01T06:56:50.473565",
     "status": "completed"
    },
    "tags": []
   },
   "outputs": [
    {
     "name": "stdout",
     "output_type": "stream",
     "text": [
      "Mean Accuracy: 75.894 %\n",
      "Standard Deviation: 5.734 %\n"
     ]
    }
   ],
   "source": [
    "knn_macc, knn_std = perform_kfold(knn)"
   ]
  },
  {
   "cell_type": "markdown",
   "id": "blind-credit",
   "metadata": {
    "papermill": {
     "duration": 0.063951,
     "end_time": "2021-06-01T06:56:50.741132",
     "exception": false,
     "start_time": "2021-06-01T06:56:50.677181",
     "status": "completed"
    },
    "tags": []
   },
   "source": [
    "#### Linear-Support Vector Machine(SVM)"
   ]
  },
  {
   "cell_type": "code",
   "execution_count": 31,
   "id": "unusual-seven",
   "metadata": {
    "execution": {
     "iopub.execute_input": "2021-06-01T06:56:50.878823Z",
     "iopub.status.busy": "2021-06-01T06:56:50.878092Z",
     "iopub.status.idle": "2021-06-01T06:56:51.014865Z",
     "shell.execute_reply": "2021-06-01T06:56:51.015386Z",
     "shell.execute_reply.started": "2021-06-01T06:54:43.277770Z"
    },
    "papermill": {
     "duration": 0.208733,
     "end_time": "2021-06-01T06:56:51.015595",
     "exception": false,
     "start_time": "2021-06-01T06:56:50.806862",
     "status": "completed"
    },
    "tags": []
   },
   "outputs": [
    {
     "name": "stdout",
     "output_type": "stream",
     "text": [
      "Mean Accuracy: 77.364 %\n",
      "Standard Deviation: 4.382 %\n"
     ]
    }
   ],
   "source": [
    "lsvm_macc, lsvm_std = perform_kfold(linear_svm)"
   ]
  },
  {
   "cell_type": "markdown",
   "id": "faced-plaza",
   "metadata": {
    "papermill": {
     "duration": 0.064108,
     "end_time": "2021-06-01T06:56:51.142766",
     "exception": false,
     "start_time": "2021-06-01T06:56:51.078658",
     "status": "completed"
    },
    "tags": []
   },
   "source": [
    "#### Radial-Support Vector Machine(SVM)"
   ]
  },
  {
   "cell_type": "code",
   "execution_count": 32,
   "id": "prospective-wisdom",
   "metadata": {
    "execution": {
     "iopub.execute_input": "2021-06-01T06:56:51.279194Z",
     "iopub.status.busy": "2021-06-01T06:56:51.278139Z",
     "iopub.status.idle": "2021-06-01T06:56:51.440024Z",
     "shell.execute_reply": "2021-06-01T06:56:51.439026Z",
     "shell.execute_reply.started": "2021-06-01T06:54:43.427457Z"
    },
    "papermill": {
     "duration": 0.232348,
     "end_time": "2021-06-01T06:56:51.440250",
     "exception": false,
     "start_time": "2021-06-01T06:56:51.207902",
     "status": "completed"
    },
    "tags": []
   },
   "outputs": [
    {
     "name": "stdout",
     "output_type": "stream",
     "text": [
      "Mean Accuracy: 77.515 %\n",
      "Standard Deviation: 3.215 %\n"
     ]
    }
   ],
   "source": [
    "rsvm_macc, rsvm_std = perform_kfold(radial_svm)"
   ]
  },
  {
   "cell_type": "markdown",
   "id": "gorgeous-albania",
   "metadata": {
    "papermill": {
     "duration": 0.063245,
     "end_time": "2021-06-01T06:56:51.568083",
     "exception": false,
     "start_time": "2021-06-01T06:56:51.504838",
     "status": "completed"
    },
    "tags": []
   },
   "source": [
    "#### Naive Bayes"
   ]
  },
  {
   "cell_type": "code",
   "execution_count": 33,
   "id": "armed-suite",
   "metadata": {
    "execution": {
     "iopub.execute_input": "2021-06-01T06:56:51.708666Z",
     "iopub.status.busy": "2021-06-01T06:56:51.707938Z",
     "iopub.status.idle": "2021-06-01T06:56:51.735309Z",
     "shell.execute_reply": "2021-06-01T06:56:51.735800Z",
     "shell.execute_reply.started": "2021-06-01T06:54:43.596416Z"
    },
    "papermill": {
     "duration": 0.102564,
     "end_time": "2021-06-01T06:56:51.736011",
     "exception": false,
     "start_time": "2021-06-01T06:56:51.633447",
     "status": "completed"
    },
    "tags": []
   },
   "outputs": [
    {
     "name": "stdout",
     "output_type": "stream",
     "text": [
      "Mean Accuracy: 75.730 %\n",
      "Standard Deviation: 6.306 %\n"
     ]
    }
   ],
   "source": [
    "nb_macc, nb_std = perform_kfold(nb)"
   ]
  },
  {
   "cell_type": "markdown",
   "id": "liquid-avenue",
   "metadata": {
    "papermill": {
     "duration": 0.065672,
     "end_time": "2021-06-01T06:56:51.866714",
     "exception": false,
     "start_time": "2021-06-01T06:56:51.801042",
     "status": "completed"
    },
    "tags": []
   },
   "source": [
    "#### Decision Tree"
   ]
  },
  {
   "cell_type": "code",
   "execution_count": 34,
   "id": "involved-shooting",
   "metadata": {
    "execution": {
     "iopub.execute_input": "2021-06-01T06:56:52.004887Z",
     "iopub.status.busy": "2021-06-01T06:56:52.004075Z",
     "iopub.status.idle": "2021-06-01T06:56:52.070962Z",
     "shell.execute_reply": "2021-06-01T06:56:52.070365Z",
     "shell.execute_reply.started": "2021-06-01T06:54:43.628666Z"
    },
    "papermill": {
     "duration": 0.138875,
     "end_time": "2021-06-01T06:56:52.071136",
     "exception": false,
     "start_time": "2021-06-01T06:56:51.932261",
     "status": "completed"
    },
    "tags": []
   },
   "outputs": [
    {
     "name": "stdout",
     "output_type": "stream",
     "text": [
      "Mean Accuracy: 70.026 %\n",
      "Standard Deviation: 7.175 %\n"
     ]
    }
   ],
   "source": [
    "dt_macc, dt_std = perform_kfold(dt)"
   ]
  },
  {
   "cell_type": "markdown",
   "id": "laden-surprise",
   "metadata": {
    "papermill": {
     "duration": 0.065935,
     "end_time": "2021-06-01T06:56:52.202945",
     "exception": false,
     "start_time": "2021-06-01T06:56:52.137010",
     "status": "completed"
    },
    "tags": []
   },
   "source": [
    "#### Random Forest"
   ]
  },
  {
   "cell_type": "code",
   "execution_count": 35,
   "id": "hearing-tulsa",
   "metadata": {
    "execution": {
     "iopub.execute_input": "2021-06-01T06:56:52.342162Z",
     "iopub.status.busy": "2021-06-01T06:56:52.341121Z",
     "iopub.status.idle": "2021-06-01T06:56:56.325105Z",
     "shell.execute_reply": "2021-06-01T06:56:56.325626Z",
     "shell.execute_reply.started": "2021-06-01T06:54:43.703708Z"
    },
    "papermill": {
     "duration": 4.056623,
     "end_time": "2021-06-01T06:56:56.325877",
     "exception": false,
     "start_time": "2021-06-01T06:56:52.269254",
     "status": "completed"
    },
    "tags": []
   },
   "outputs": [
    {
     "name": "stdout",
     "output_type": "stream",
     "text": [
      "Mean Accuracy: 77.515 %\n",
      "Standard Deviation: 3.898 %\n"
     ]
    }
   ],
   "source": [
    "rf_macc, rf_std = perform_kfold(rf)"
   ]
  },
  {
   "cell_type": "markdown",
   "id": "corporate-hamburg",
   "metadata": {
    "papermill": {
     "duration": 0.065867,
     "end_time": "2021-06-01T06:56:56.458068",
     "exception": false,
     "start_time": "2021-06-01T06:56:56.392201",
     "status": "completed"
    },
    "tags": []
   },
   "source": [
    "#### XGBoost"
   ]
  },
  {
   "cell_type": "code",
   "execution_count": 36,
   "id": "excited-omega",
   "metadata": {
    "execution": {
     "iopub.execute_input": "2021-06-01T06:56:56.594026Z",
     "iopub.status.busy": "2021-06-01T06:56:56.592751Z",
     "iopub.status.idle": "2021-06-01T06:56:57.481462Z",
     "shell.execute_reply": "2021-06-01T06:56:57.482426Z",
     "shell.execute_reply.started": "2021-06-01T06:54:47.825628Z"
    },
    "papermill": {
     "duration": 0.959898,
     "end_time": "2021-06-01T06:56:57.482680",
     "exception": false,
     "start_time": "2021-06-01T06:56:56.522782",
     "status": "completed"
    },
    "tags": []
   },
   "outputs": [
    {
     "name": "stdout",
     "output_type": "stream",
     "text": [
      "Mean Accuracy: 76.052 %\n",
      "Standard Deviation: 4.156 %\n"
     ]
    }
   ],
   "source": [
    "xgb_macc, xgb_std = perform_kfold(xgb)"
   ]
  },
  {
   "cell_type": "markdown",
   "id": "norwegian-frederick",
   "metadata": {
    "papermill": {
     "duration": 0.063688,
     "end_time": "2021-06-01T06:56:57.611829",
     "exception": false,
     "start_time": "2021-06-01T06:56:57.548141",
     "status": "completed"
    },
    "tags": []
   },
   "source": [
    "#### Comparing Models after K-fold cross validation"
   ]
  },
  {
   "cell_type": "code",
   "execution_count": 37,
   "id": "powered-latest",
   "metadata": {
    "execution": {
     "iopub.execute_input": "2021-06-01T06:56:57.745623Z",
     "iopub.status.busy": "2021-06-01T06:56:57.744916Z",
     "iopub.status.idle": "2021-06-01T06:56:57.761351Z",
     "shell.execute_reply": "2021-06-01T06:56:57.761871Z",
     "shell.execute_reply.started": "2021-06-01T06:54:48.765635Z"
    },
    "papermill": {
     "duration": 0.085629,
     "end_time": "2021-06-01T06:56:57.762136",
     "exception": false,
     "start_time": "2021-06-01T06:56:57.676507",
     "status": "completed"
    },
    "tags": []
   },
   "outputs": [
    {
     "data": {
      "text/html": [
       "<div>\n",
       "<style scoped>\n",
       "    .dataframe tbody tr th:only-of-type {\n",
       "        vertical-align: middle;\n",
       "    }\n",
       "\n",
       "    .dataframe tbody tr th {\n",
       "        vertical-align: top;\n",
       "    }\n",
       "\n",
       "    .dataframe thead th {\n",
       "        text-align: right;\n",
       "    }\n",
       "</style>\n",
       "<table border=\"1\" class=\"dataframe\">\n",
       "  <thead>\n",
       "    <tr style=\"text-align: right;\">\n",
       "      <th></th>\n",
       "      <th>Model</th>\n",
       "      <th>Mean Accuracy Score</th>\n",
       "      <th>Standard Deviation</th>\n",
       "    </tr>\n",
       "  </thead>\n",
       "  <tbody>\n",
       "    <tr>\n",
       "      <th>0</th>\n",
       "      <td>Logistic Regression</td>\n",
       "      <td>0.775251</td>\n",
       "      <td>0.041685</td>\n",
       "    </tr>\n",
       "    <tr>\n",
       "      <th>1</th>\n",
       "      <td>Random Forest</td>\n",
       "      <td>0.775145</td>\n",
       "      <td>0.038979</td>\n",
       "    </tr>\n",
       "    <tr>\n",
       "      <th>2</th>\n",
       "      <td>SVM-RBF</td>\n",
       "      <td>0.775145</td>\n",
       "      <td>0.032154</td>\n",
       "    </tr>\n",
       "    <tr>\n",
       "      <th>3</th>\n",
       "      <td>SVM-Linear</td>\n",
       "      <td>0.773638</td>\n",
       "      <td>0.043824</td>\n",
       "    </tr>\n",
       "    <tr>\n",
       "      <th>4</th>\n",
       "      <td>XGBoost</td>\n",
       "      <td>0.760524</td>\n",
       "      <td>0.041557</td>\n",
       "    </tr>\n",
       "    <tr>\n",
       "      <th>5</th>\n",
       "      <td>KNN</td>\n",
       "      <td>0.758937</td>\n",
       "      <td>0.057338</td>\n",
       "    </tr>\n",
       "    <tr>\n",
       "      <th>6</th>\n",
       "      <td>Naive Bayes</td>\n",
       "      <td>0.757298</td>\n",
       "      <td>0.063057</td>\n",
       "    </tr>\n",
       "    <tr>\n",
       "      <th>7</th>\n",
       "      <td>Decision Tree</td>\n",
       "      <td>0.700264</td>\n",
       "      <td>0.071748</td>\n",
       "    </tr>\n",
       "  </tbody>\n",
       "</table>\n",
       "</div>"
      ],
      "text/plain": [
       "                 Model  Mean Accuracy Score  Standard Deviation\n",
       "0  Logistic Regression             0.775251            0.041685\n",
       "1        Random Forest             0.775145            0.038979\n",
       "2              SVM-RBF             0.775145            0.032154\n",
       "3           SVM-Linear             0.773638            0.043824\n",
       "4              XGBoost             0.760524            0.041557\n",
       "5                  KNN             0.758937            0.057338\n",
       "6          Naive Bayes             0.757298            0.063057\n",
       "7        Decision Tree             0.700264            0.071748"
      ]
     },
     "execution_count": 37,
     "metadata": {},
     "output_type": "execute_result"
    }
   ],
   "source": [
    "cross_validated_models = pd.DataFrame({\n",
    "    \"Model\": [\"Logistic Regression\", \"KNN\", \"SVM-Linear\", \"SVM-RBF\", \n",
    "             \"Naive Bayes\", \"Decision Tree\", \"Random Forest\", \"XGBoost\"],\n",
    "    \"Mean Accuracy Score\": [log_macc, knn_macc, lsvm_macc, rsvm_macc, \n",
    "                       nb_macc, dt_macc, rf_macc, xgb_macc],\n",
    "    \"Standard Deviation\": [log_std, knn_std, lsvm_std, rsvm_std, \n",
    "                       nb_std, dt_std, rf_std, xgb_std]\n",
    "})\n",
    "\n",
    "cross_validated_models.sort_values(by = 'Mean Accuracy Score', ascending = False,\n",
    "                     ignore_index=True)"
   ]
  },
  {
   "cell_type": "markdown",
   "id": "pursuant-verification",
   "metadata": {
    "papermill": {
     "duration": 0.064904,
     "end_time": "2021-06-01T06:56:57.892528",
     "exception": false,
     "start_time": "2021-06-01T06:56:57.827624",
     "status": "completed"
    },
    "tags": []
   },
   "source": [
    "* **So, it turns out LogisticRegression is the winners after K-fold Crossvalidation.**"
   ]
  },
  {
   "cell_type": "code",
   "execution_count": 38,
   "id": "41d0e0cf",
   "metadata": {},
   "outputs": [],
   "source": [
    "pickle.dump(log, open('pima_log.pkl','wb'))\n",
    "pickle.dump(ss, open('scaling.pkl', 'wb'))"
   ]
  },
  {
   "cell_type": "code",
   "execution_count": 39,
   "id": "9c6792be",
   "metadata": {},
   "outputs": [
    {
     "data": {
      "text/html": [
       "<div>\n",
       "<style scoped>\n",
       "    .dataframe tbody tr th:only-of-type {\n",
       "        vertical-align: middle;\n",
       "    }\n",
       "\n",
       "    .dataframe tbody tr th {\n",
       "        vertical-align: top;\n",
       "    }\n",
       "\n",
       "    .dataframe thead th {\n",
       "        text-align: right;\n",
       "    }\n",
       "</style>\n",
       "<table border=\"1\" class=\"dataframe\">\n",
       "  <thead>\n",
       "    <tr style=\"text-align: right;\">\n",
       "      <th></th>\n",
       "      <th>Pregnancies</th>\n",
       "      <th>Glucose</th>\n",
       "      <th>BloodPressure</th>\n",
       "      <th>SkinThickness</th>\n",
       "      <th>Insulin</th>\n",
       "      <th>BMI</th>\n",
       "      <th>DiabetesPedigreeFunction</th>\n",
       "      <th>Age</th>\n",
       "    </tr>\n",
       "  </thead>\n",
       "  <tbody>\n",
       "    <tr>\n",
       "      <th>0</th>\n",
       "      <td>6</td>\n",
       "      <td>148.0</td>\n",
       "      <td>72.0</td>\n",
       "      <td>35.00000</td>\n",
       "      <td>155.548223</td>\n",
       "      <td>33.6</td>\n",
       "      <td>0.627</td>\n",
       "      <td>50</td>\n",
       "    </tr>\n",
       "    <tr>\n",
       "      <th>1</th>\n",
       "      <td>1</td>\n",
       "      <td>85.0</td>\n",
       "      <td>66.0</td>\n",
       "      <td>29.00000</td>\n",
       "      <td>155.548223</td>\n",
       "      <td>26.6</td>\n",
       "      <td>0.351</td>\n",
       "      <td>31</td>\n",
       "    </tr>\n",
       "    <tr>\n",
       "      <th>2</th>\n",
       "      <td>8</td>\n",
       "      <td>183.0</td>\n",
       "      <td>64.0</td>\n",
       "      <td>29.15342</td>\n",
       "      <td>155.548223</td>\n",
       "      <td>23.3</td>\n",
       "      <td>0.672</td>\n",
       "      <td>32</td>\n",
       "    </tr>\n",
       "    <tr>\n",
       "      <th>3</th>\n",
       "      <td>1</td>\n",
       "      <td>89.0</td>\n",
       "      <td>66.0</td>\n",
       "      <td>23.00000</td>\n",
       "      <td>94.000000</td>\n",
       "      <td>28.1</td>\n",
       "      <td>0.167</td>\n",
       "      <td>21</td>\n",
       "    </tr>\n",
       "    <tr>\n",
       "      <th>4</th>\n",
       "      <td>0</td>\n",
       "      <td>137.0</td>\n",
       "      <td>40.0</td>\n",
       "      <td>35.00000</td>\n",
       "      <td>168.000000</td>\n",
       "      <td>43.1</td>\n",
       "      <td>2.288</td>\n",
       "      <td>33</td>\n",
       "    </tr>\n",
       "  </tbody>\n",
       "</table>\n",
       "</div>"
      ],
      "text/plain": [
       "   Pregnancies  Glucose  BloodPressure  SkinThickness     Insulin   BMI  \\\n",
       "0            6    148.0           72.0       35.00000  155.548223  33.6   \n",
       "1            1     85.0           66.0       29.00000  155.548223  26.6   \n",
       "2            8    183.0           64.0       29.15342  155.548223  23.3   \n",
       "3            1     89.0           66.0       23.00000   94.000000  28.1   \n",
       "4            0    137.0           40.0       35.00000  168.000000  43.1   \n",
       "\n",
       "   DiabetesPedigreeFunction  Age  \n",
       "0                     0.627   50  \n",
       "1                     0.351   31  \n",
       "2                     0.672   32  \n",
       "3                     0.167   21  \n",
       "4                     2.288   33  "
      ]
     },
     "execution_count": 39,
     "metadata": {},
     "output_type": "execute_result"
    }
   ],
   "source": [
    "X.head()"
   ]
  },
  {
   "cell_type": "code",
   "execution_count": 54,
   "id": "ebd10bf5",
   "metadata": {},
   "outputs": [
    {
     "data": {
      "text/plain": [
       "array([[  4.        , 110.        ,  92.        ,  29.15341959,\n",
       "        155.54822335,  37.6       ,   0.191     ,  30.        ]])"
      ]
     },
     "execution_count": 54,
     "metadata": {},
     "output_type": "execute_result"
    }
   ],
   "source": [
    "data_check = np.array(list(X.iloc[10,:])).reshape(1,-1)\n",
    "data_check"
   ]
  },
  {
   "cell_type": "code",
   "execution_count": 50,
   "id": "17774eb1",
   "metadata": {},
   "outputs": [
    {
     "data": {
      "text/plain": [
       "array([[ 0.03490564, -0.39987065,  1.59198503,  0.02457771,  0.02272654,\n",
       "         0.73684208, -0.84264968, -0.29273554]])"
      ]
     },
     "execution_count": 50,
     "metadata": {},
     "output_type": "execute_result"
    }
   ],
   "source": [
    "new_data = ss.transform(data_check)\n",
    "new_data"
   ]
  },
  {
   "cell_type": "code",
   "execution_count": 53,
   "id": "00d8227a",
   "metadata": {},
   "outputs": [
    {
     "data": {
      "text/plain": [
       "0"
      ]
     },
     "execution_count": 53,
     "metadata": {},
     "output_type": "execute_result"
    }
   ],
   "source": [
    "log.predict(new_data)[0]"
   ]
  },
  {
   "cell_type": "code",
   "execution_count": 55,
   "id": "29d37c05",
   "metadata": {},
   "outputs": [
    {
     "data": {
      "text/plain": [
       "Pregnancies                   4.000000\n",
       "Glucose                     110.000000\n",
       "BloodPressure                92.000000\n",
       "SkinThickness                29.153420\n",
       "Insulin                     155.548223\n",
       "BMI                          37.600000\n",
       "DiabetesPedigreeFunction      0.191000\n",
       "Age                          30.000000\n",
       "Name: 10, dtype: float64"
      ]
     },
     "execution_count": 55,
     "metadata": {},
     "output_type": "execute_result"
    }
   ],
   "source": [
    "X.iloc[10,:]"
   ]
  },
  {
   "cell_type": "code",
   "execution_count": null,
   "id": "868a1aed",
   "metadata": {},
   "outputs": [],
   "source": []
  }
 ],
 "metadata": {
  "kernelspec": {
   "display_name": "Python 3",
   "language": "python",
   "name": "python3"
  },
  "language_info": {
   "codemirror_mode": {
    "name": "ipython",
    "version": 3
   },
   "file_extension": ".py",
   "mimetype": "text/x-python",
   "name": "python",
   "nbconvert_exporter": "python",
   "pygments_lexer": "ipython3",
   "version": "3.7.7"
  },
  "papermill": {
   "default_parameters": {},
   "duration": 30.100623,
   "end_time": "2021-06-01T06:56:59.695089",
   "environment_variables": {},
   "exception": null,
   "input_path": "__notebook__.ipynb",
   "output_path": "__notebook__.ipynb",
   "parameters": {},
   "start_time": "2021-06-01T06:56:29.594466",
   "version": "2.3.3"
  }
 },
 "nbformat": 4,
 "nbformat_minor": 5
}
